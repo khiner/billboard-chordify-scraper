{
 "cells": [
  {
   "cell_type": "code",
   "execution_count": null,
   "id": "ac54aacd",
   "metadata": {},
   "outputs": [],
   "source": [
    "import pandas as pd\n",
    "import numpy as np\n",
    "import json\n",
    "import matplotlib.pyplot as plt\n",
    "\n",
    "%matplotlib inline\n",
    "plt.rcParams[\"figure.figsize\"] = [10, 5]"
   ]
  },
  {
   "cell_type": "code",
   "execution_count": null,
   "id": "b0f21afa",
   "metadata": {},
   "outputs": [],
   "source": [
    "df = pd.read_csv('chordify_with_rn_200_1991-01-05_to_2022-10-01.csv', parse_dates=['date'])\n",
    "df['year'] = df['date'].dt.year # Add year\n",
    "\n",
    "# 'roman_numerals' column is a JSON string. Turn the values into lists.\n",
    "df.roman_numerals = df.roman_numerals.apply(json.loads)\n",
    "print('Total songs: ', len(df))\n",
    "\n",
    "# Remove any `None` values (which is the value when no RN could be found for the chord).\n",
    "df = df[df.roman_numerals.apply(lambda x: None not in x)]\n",
    "print('Songs with all roman numerals resolved (used for analysis): ', len(df))\n",
    "\n",
    "# Create a copy of the row-per-song dataframe for later.\n",
    "song_df = df\n",
    "\n",
    "# Create our final main dataframe with one row per-chord-per-song.\n",
    "df = df.explode('roman_numerals')"
   ]
  },
  {
   "cell_type": "code",
   "execution_count": null,
   "id": "0f39adc0",
   "metadata": {},
   "outputs": [],
   "source": [
    "# Check some summary stats.\n",
    "print('Total number of songs: {:,}'.format(len(df.groupby(['artist', 'song']).count())))\n",
    "print('Total number of chord instances: {:,}'.format(len(df)))\n",
    "print('Average chord instances per song: {:.3f}'.format(df.groupby(['artist', 'song']).roman_numerals.count().mean()))\n",
    "print('Average unique chords per song: {:.3f}'.format(df.groupby(['artist', 'song']).roman_numerals.nunique().mean()))\n",
    "# Show all unique roman numeral chords in our dataset.\n",
    "print('\\n{} unique chords:'.format(len(df.roman_numerals.unique())))\n",
    "print(', '.join(sorted(df.roman_numerals.unique())))"
   ]
  },
  {
   "cell_type": "code",
   "execution_count": null,
   "id": "6302373f",
   "metadata": {},
   "outputs": [],
   "source": [
    "df.groupby(['artist', 'song']).roman_numerals.nunique().hist(bins=range(0, 18, 2))\n",
    "plt.title('Distribution of unique chord count')\n",
    "plt.xlabel('Number of unique chords')\n",
    "_ = plt.ylabel('Number of songs')"
   ]
  },
  {
   "cell_type": "code",
   "execution_count": null,
   "id": "9c5a36f9",
   "metadata": {},
   "outputs": [],
   "source": [
    "# Histogram of RN counts across the full dataset:\n",
    "_ = df.roman_numerals.value_counts().plot.bar(title='Chord counts by type', width=0.9)"
   ]
  },
  {
   "cell_type": "code",
   "execution_count": null,
   "id": "3bd7909b",
   "metadata": {},
   "outputs": [],
   "source": [
    "# Same, but only the top 10 most popular chords:\n",
    "_ = df.roman_numerals.value_counts().nlargest(10).plot.bar(title='Chord counts by type (Top 10)', width=0.9)"
   ]
  },
  {
   "cell_type": "code",
   "execution_count": null,
   "id": "a9f5839c",
   "metadata": {},
   "outputs": [],
   "source": [
    "df.groupby('year').roman_numerals.value_counts().groupby('year').head(3).unstack()\\\n",
    "    .plot.bar(stacked=True, title='Three most popular chords in each year', ylabel='Chord count', xlabel='')\n",
    "_ = plt.legend(bbox_to_anchor=(1, 1)) # Move legend outside plot"
   ]
  },
  {
   "cell_type": "code",
   "execution_count": null,
   "id": "07d3685b",
   "metadata": {},
   "outputs": [],
   "source": [
    "song_df['rn_quadgrams'] = song_df.roman_numerals.apply(\n",
    "    lambda items, n=4: [items[i:i+n] for i in range(len(items) - n + 1)]\n",
    ")"
   ]
  },
  {
   "cell_type": "code",
   "execution_count": null,
   "id": "deaad270",
   "metadata": {},
   "outputs": [],
   "source": [
    "QUADGRAM_1564 = ['I', 'V', 'vi', 'IV']\n",
    "QUADGRAM_1564_ROTATIONS = [list(np.roll(QUADGRAM_1564, rotation)) for rotation in range(4)]\n",
    "\n",
    "song_df['is_1564'] = song_df.rn_quadgrams.apply(\n",
    "    lambda quadgrams: [quadgram in QUADGRAM_1564_ROTATIONS for quadgram in quadgrams]\n",
    ")\n",
    "\n",
    "song_df['has_1564'] = song_df.is_1564.apply(any)\n",
    "song_df['num_1564'] = song_df.is_1564.apply(lambda is_1564: is_1564.count(True))"
   ]
  },
  {
   "cell_type": "code",
   "execution_count": null,
   "id": "e1cc5b69",
   "metadata": {},
   "outputs": [],
   "source": [
    "_ = song_df.groupby('year').has_1564.value_counts().unstack()\\\n",
    "    .plot.bar(stacked=True, title='Number of songs per year with/without a 1564 quadgram', xlabel='', ylabel='Songs')"
   ]
  },
  {
   "cell_type": "code",
   "execution_count": null,
   "id": "4d9cfcd9",
   "metadata": {},
   "outputs": [],
   "source": [
    "ax = song_df.groupby('year').num_1564.sum()\\\n",
    "    .plot.bar(title='Total number of I-V-vi-IV quadgrams per year', xlabel='', ylabel='I-V-vi-IV quadgrams', grid=True)\n",
    "ax.set_axisbelow(True)"
   ]
  },
  {
   "cell_type": "code",
   "execution_count": null,
   "id": "4846df93",
   "metadata": {},
   "outputs": [],
   "source": [
    "year_ratios = song_df.groupby('year').apply(lambda sub: sub.num_1564.sum() / sub.rn_quadgrams.apply(len).sum())\n",
    "ax = year_ratios\\\n",
    "    .plot.bar(title='Ratio of I-V-vi-IV quadgrams per year', xlabel='', ylabel='I-V-vi-IV quadgram ratio', grid=True)\n",
    "ax.set_axisbelow(True)"
   ]
  },
  {
   "cell_type": "markdown",
   "id": "843efbc3",
   "metadata": {},
   "source": [
    "## Mann-Kendall Tests"
   ]
  },
  {
   "cell_type": "code",
   "execution_count": null,
   "id": "b6b09a52",
   "metadata": {},
   "outputs": [],
   "source": [
    "!pip install pymannkendall"
   ]
  },
  {
   "cell_type": "code",
   "execution_count": null,
   "id": "23643ca0",
   "metadata": {},
   "outputs": [],
   "source": [
    "import pymannkendall as mk"
   ]
  },
  {
   "cell_type": "code",
   "execution_count": null,
   "id": "f92b54e1",
   "metadata": {},
   "outputs": [],
   "source": [
    "trend_years = year_ratios.index.values[:-1]\n",
    "trend_df = pd.DataFrame([mk.original_test(year_ratios.loc[year:]) for year in trend_years], index=trend_years)\n",
    "trend_df.head() # Each row has all values returned from the Mann-Kendall Trend Test from the row year to 2022."
   ]
  },
  {
   "cell_type": "code",
   "execution_count": null,
   "id": "180cbd11",
   "metadata": {},
   "outputs": [],
   "source": [
    "ax = trend_df.p.plot(\n",
    "    title='Each vertical bar shows estimated trend to 2022. Lower $p$ value is more confident.',\n",
    "    ylabel='$p$ value', xlim=(1991, 2021), lw=3, label='$p$ value'\n",
    ")\n",
    "h = ax.hlines(0.05, xmin=1991, xmax=2021, color='k', label='$p = 0.05$')\n",
    "\n",
    "plt.suptitle('Mann-Kendall trend test for each year', fontsize=16)\n",
    "colors = {'decreasing': 'red', 'no trend': 'gray', 'increasing': 'green'}\n",
    "labelled_trends = set() # Keep track of which trend backgrounds we've labelled, to avoid duplicate legend items.\n",
    "for year, trend in trend_df.trend.items():\n",
    "    ax.axvspan(year - 0.5, year + 0.5, alpha=0.35, color=colors[trend],\n",
    "               label='' if trend in labelled_trends else trend.capitalize())\n",
    "    labelled_trends.add(trend)\n",
    "_ = ax.legend(loc='upper left')"
   ]
  },
  {
   "cell_type": "code",
   "execution_count": null,
   "id": "ed1621e4",
   "metadata": {},
   "outputs": [],
   "source": []
  }
 ],
 "metadata": {
  "kernelspec": {
   "display_name": "Python 3 (ipykernel)",
   "language": "python",
   "name": "python3"
  },
  "language_info": {
   "codemirror_mode": {
    "name": "ipython",
    "version": 3
   },
   "file_extension": ".py",
   "mimetype": "text/x-python",
   "name": "python",
   "nbconvert_exporter": "python",
   "pygments_lexer": "ipython3",
   "version": "3.10.1"
  }
 },
 "nbformat": 4,
 "nbformat_minor": 5
}
