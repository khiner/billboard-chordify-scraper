{
 "cells": [
  {
   "cell_type": "code",
   "execution_count": null,
   "id": "c6558c03",
   "metadata": {},
   "outputs": [],
   "source": [
    "import pandas as pd\n",
    "import json\n",
    "import matplotlib.pyplot as plt\n",
    "%matplotlib inline\n",
    "plt.rcParams[\"figure.figsize\"] = [10, 5]"
   ]
  },
  {
   "cell_type": "code",
   "execution_count": null,
   "id": "b6a38c9b",
   "metadata": {},
   "outputs": [],
   "source": [
    "df = pd.read_csv('chordify_with_rn_200_1991-01-05_to_2022-10-01.csv', parse_dates=['date'])\n",
    "df['year'] = df['date'].dt.year # Add year\n",
    "# 'roman_numerals' column is a JSON string. Turn the values into lists.\n",
    "df.roman_numerals = df.roman_numerals.apply(json.loads)\n",
    "print('Total songs: ', len(df))\n",
    "# Remove any `None` values (which is the value when no RN could be found for the chord).\n",
    "df = df[df['roman_numerals'].apply(lambda x: None not in x)]\n",
    "print('Songs with all roman numerals resolved (used for analysis): ', len(df))\n",
    "# Create our final main dataframe with one row per-chord-per-song.\n",
    "df = df.explode('roman_numerals')"
   ]
  },
  {
   "cell_type": "code",
   "execution_count": null,
   "id": "ea4eba80",
   "metadata": {},
   "outputs": [],
   "source": [
    "# Check some summary stats.\n",
    "print('Total number of songs: {:,}'.format(len(df.groupby(['artist', 'song']).count())))\n",
    "print('Total number of chord instances: {:,}'.format(len(df)))\n",
    "print('Average chord instances per song: {:.3f}'.format(df.groupby(['artist', 'song']).roman_numerals.count().mean()))\n",
    "print('Average unique chords per song: {:.3f}'.format(df.groupby(['artist', 'song']).roman_numerals.nunique().mean()))\n",
    "# Show all unique roman numeral chords in our dataset.\n",
    "print('{} unique chords:'.format(len(df.roman_numerals.unique())))\n",
    "print(', '.join(sorted(df.roman_numerals.unique())))"
   ]
  },
  {
   "cell_type": "code",
   "execution_count": null,
   "id": "5e8c819a",
   "metadata": {},
   "outputs": [],
   "source": [
    "df.groupby(['artist', 'song']).roman_numerals.nunique().hist()\n",
    "plt.title('Distribution of unique chord count')\n",
    "plt.xlabel('Number of unique chords')\n",
    "_ = plt.ylabel('Number of songs')"
   ]
  },
  {
   "cell_type": "code",
   "execution_count": null,
   "id": "724d1ac9",
   "metadata": {},
   "outputs": [],
   "source": [
    "# Histogram of RN counts across the full dataset:\n",
    "_ = df.roman_numerals.value_counts().plot.bar(title='Chord counts by type', width=0.9)"
   ]
  },
  {
   "cell_type": "code",
   "execution_count": null,
   "id": "775b4022",
   "metadata": {},
   "outputs": [],
   "source": [
    "# Same, but only the top 10 most popular chords:\n",
    "_ = df.roman_numerals.value_counts().nlargest(10).plot.bar(title='Chord counts by type (Top 10)', width=0.9)"
   ]
  },
  {
   "cell_type": "code",
   "execution_count": null,
   "id": "2dbf8278",
   "metadata": {},
   "outputs": [],
   "source": [
    "df.groupby('year').roman_numerals.value_counts().groupby('year').head(6).unstack()\\\n",
    "    .plot.bar(stacked=True, title='Six most popular chords for each year', ylabel='Chord count')\n",
    "_ = plt.legend(bbox_to_anchor=(1, 1)) # Move legend outside plot"
   ]
  }
 ],
 "metadata": {
  "kernelspec": {
   "display_name": "Python 3 (ipykernel)",
   "language": "python",
   "name": "python3"
  },
  "language_info": {
   "codemirror_mode": {
    "name": "ipython",
    "version": 3
   },
   "file_extension": ".py",
   "mimetype": "text/x-python",
   "name": "python",
   "nbconvert_exporter": "python",
   "pygments_lexer": "ipython3",
   "version": "3.10.1"
  }
 },
 "nbformat": 4,
 "nbformat_minor": 5
}
