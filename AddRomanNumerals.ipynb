{
 "cells": [
  {
   "cell_type": "code",
   "execution_count": null,
   "id": "7e021cd9",
   "metadata": {},
   "outputs": [],
   "source": [
    "import pandas as pd\n",
    "import json\n",
    "import music21"
   ]
  },
  {
   "cell_type": "code",
   "execution_count": null,
   "id": "9b96c036",
   "metadata": {},
   "outputs": [],
   "source": [
    "df = pd.read_csv('chordify_200_1991-01-05_to_2022-10-01.csv', parse_dates=['date'])\n",
    "df['key_clean'] = df.key.fillna('').replace(\n",
    "    ['b', 's', '_maj', '_min'],\n",
    "    [ '-', '#', '', 'm'], regex=True\n",
    ")\n",
    "df['chords_clean'] = df.chords.fillna('\"[]\"').replace(\n",
    "    ['b_', 's_', '_', 'min', 'maj6', 'maj9', 'maj11', 'maj13'],\n",
    "    ['-', '#', '', 'm', '6', 'M9', 'M11', 'M13'], regex=True\n",
    ").apply(json.loads)"
   ]
  },
  {
   "cell_type": "code",
   "execution_count": null,
   "id": "4306de2f",
   "metadata": {},
   "outputs": [],
   "source": [
    "symbol_for_chord = {} # Cache of chord string -> m21 chord symbol\n",
    "roman_numeral_for_chord_key = {} # Cache of (chord string, key string) -> roman numeral\n",
    "\n",
    "def roman_numeral(chord, key):\n",
    "    try:\n",
    "        if not key:\n",
    "            return None\n",
    "        if chord not in symbol_for_chord:\n",
    "            symbol_for_chord[chord] = music21.harmony.ChordSymbol(chord)\n",
    "        chord_symbol = symbol_for_chord[chord]\n",
    "        chord_symbol.key = music21.key.Key(key)\n",
    "        if (chord, key) not in roman_numeral_for_chord_key:\n",
    "            roman_numeral_for_chord_key[(chord, key)] = chord_symbol.romanNumeral.romanNumeral\n",
    "        return roman_numeral_for_chord_key[(chord, key)]\n",
    "    except Exception as er:\n",
    "        print(er)\n",
    "        return None"
   ]
  },
  {
   "cell_type": "code",
   "execution_count": null,
   "id": "99f99c7c",
   "metadata": {},
   "outputs": [],
   "source": [
    "df['roman_numerals'] = df.apply(lambda row: json.dumps([roman_numeral(chord, row.key_clean) for chord in row.chords_clean]), axis=1)"
   ]
  },
  {
   "cell_type": "code",
   "execution_count": null,
   "id": "e2e1e2b5",
   "metadata": {},
   "outputs": [],
   "source": [
    "df.drop(columns=['key_clean', 'chords_clean'], inplace=True)\n",
    "df.to_csv('chordify_with_rn_200_1991-01-05_to_2022-10-01.csv', index=False)"
   ]
  },
  {
   "cell_type": "code",
   "execution_count": null,
   "id": "fbb32bc7",
   "metadata": {},
   "outputs": [],
   "source": [
    "df"
   ]
  },
  {
   "cell_type": "code",
   "execution_count": null,
   "id": "c5aa5bea",
   "metadata": {},
   "outputs": [],
   "source": []
  }
 ],
 "metadata": {
  "kernelspec": {
   "display_name": "Python 3 (ipykernel)",
   "language": "python",
   "name": "python3"
  },
  "language_info": {
   "codemirror_mode": {
    "name": "ipython",
    "version": 3
   },
   "file_extension": ".py",
   "mimetype": "text/x-python",
   "name": "python",
   "nbconvert_exporter": "python",
   "pygments_lexer": "ipython3",
   "version": "3.10.1"
  }
 },
 "nbformat": 4,
 "nbformat_minor": 5
}
