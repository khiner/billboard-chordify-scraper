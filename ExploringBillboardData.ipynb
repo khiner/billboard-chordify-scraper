{
 "cells": [
  {
   "cell_type": "code",
   "execution_count": null,
   "id": "96b04c8a",
   "metadata": {},
   "outputs": [],
   "source": [
    "import pandas as pd\n",
    "import matplotlib.pyplot as plt\n",
    "%matplotlib inline\n",
    "plt.rcParams[\"figure.figsize\"] = [10, 5]"
   ]
  },
  {
   "cell_type": "code",
   "execution_count": null,
   "id": "6b225c5d",
   "metadata": {},
   "outputs": [],
   "source": [
    "billboard_csv = 'billboard_hot_100_1991-01-05_to_2022-10-01.csv'\n",
    "df = pd.read_csv(billboard_csv, parse_dates=['date'])"
   ]
  },
  {
   "cell_type": "markdown",
   "id": "b61d4406",
   "metadata": {},
   "source": [
    "View data before any processing:"
   ]
  },
  {
   "cell_type": "code",
   "execution_count": null,
   "id": "4029d0ba",
   "metadata": {},
   "outputs": [],
   "source": [
    "df"
   ]
  },
  {
   "cell_type": "markdown",
   "id": "f3190251",
   "metadata": {},
   "source": [
    "Reorder columns:"
   ]
  },
  {
   "cell_type": "code",
   "execution_count": null,
   "id": "522af8c2",
   "metadata": {},
   "outputs": [],
   "source": [
    "df = df.filter(['date', 'pos', 'pos_prev', 'pos_peak', 'weeks', 'artist', 'song'])"
   ]
  },
  {
   "cell_type": "code",
   "execution_count": null,
   "id": "765c46e0",
   "metadata": {},
   "outputs": [],
   "source": [
    "df.head()"
   ]
  },
  {
   "cell_type": "markdown",
   "id": "4d92944e",
   "metadata": {},
   "source": [
    "Add some columns for convenience:\n",
    "* Add a \"year\", derived from the \"date\" column, and use it as the index.\n",
    "* Add an \"artist_song\" column, derived from the \"artist\" and \"song\" columns. (We'll use this to determine unique songs in each year.)"
   ]
  },
  {
   "cell_type": "code",
   "execution_count": null,
   "id": "2ff9c763",
   "metadata": {},
   "outputs": [],
   "source": [
    "df['year'] = df['date'].dt.year\n",
    "df.set_index('year', inplace=True)\n",
    "df['artist_song'] = df['artist'] + ': ' + df['song']\n",
    "df[['artist', 'song', 'artist_song']].head()"
   ]
  },
  {
   "cell_type": "markdown",
   "id": "fb517c6a",
   "metadata": {},
   "source": [
    "Remove the original 'artist' and 'song' columns, since we now have the combined 'artist_song', and remove all rows with year 2022, since we don't have complete data for this year."
   ]
  },
  {
   "cell_type": "code",
   "execution_count": null,
   "id": "cc32316b",
   "metadata": {},
   "outputs": [],
   "source": [
    "df = df.drop(columns=['artist', 'song']).drop(2022)\n",
    "df"
   ]
  },
  {
   "cell_type": "markdown",
   "id": "a85a764d",
   "metadata": {},
   "source": [
    "Find the number of unique charting songs (by 'artist'/'song') for each year:"
   ]
  },
  {
   "cell_type": "code",
   "execution_count": null,
   "id": "32806ff4",
   "metadata": {},
   "outputs": [],
   "source": [
    "_ = df.groupby(['year'])['artist_song'].nunique().plot.bar(title='Number of unique charting songs by year')"
   ]
  },
  {
   "cell_type": "markdown",
   "id": "1cfad83c",
   "metadata": {},
   "source": [
    "Sort all chart weeks by year (earliest first), then by peak chart position (lowest first), then by the number of consecutive weeks in the charts (most weeks first).\n",
    "\n",
    "Finally, drop all rows (chart weeks) with duplicate song, keeping only the first (highest & longest-charting week of the earliest charting year) of each duplicate."
   ]
  },
  {
   "cell_type": "code",
   "execution_count": null,
   "id": "04eedd7d",
   "metadata": {},
   "outputs": [],
   "source": [
    "num_rows_raw = len(df)\n",
    "df = df.sort_values(['year', 'pos_peak', 'weeks'], ascending=[True, True, False]).drop_duplicates(['artist_song'])\n",
    "num_rows_unique_by_year = len(df)\n",
    "df"
   ]
  },
  {
   "cell_type": "markdown",
   "id": "8b5b7999",
   "metadata": {},
   "source": [
    "Let's look at a single year to make sure the low peak-position & high week counts are at the top:"
   ]
  },
  {
   "cell_type": "code",
   "execution_count": null,
   "id": "21cb9918",
   "metadata": {},
   "outputs": [],
   "source": [
    "df[df.index == 2021]"
   ]
  },
  {
   "cell_type": "markdown",
   "id": "7cca6c3e",
   "metadata": {},
   "source": [
    "Check how many rows we dropped, and make sure each song is unique across the whole dataframe:"
   ]
  },
  {
   "cell_type": "code",
   "execution_count": null,
   "id": "2d444c68",
   "metadata": {},
   "outputs": [],
   "source": [
    "print('Num rows (raw):', num_rows_raw)\n",
    "print('Num rows (with unique songs per-year):', num_rows_unique_by_year)\n",
    "assert df['artist_song'].count() == df['artist_song'].nunique()"
   ]
  },
  {
   "cell_type": "markdown",
   "id": "ffe05fe3",
   "metadata": {},
   "source": [
    "One thing that sticks out to me here is that more recent years have more unique charting songs, by a substantial margin.\n",
    "My naive interpretation is a combination of our tastes are becoming more eclectic and independent artists getting more exposure through Soundcloud/Bandcamp. But maybe it has more to do with the music industry/distribution/etc. than our collective listening patterns/tastes? ([Chart rankings are based on sales (physical and digital), radio play, and online streaming in the United States.](https://www.billboard.com/pro/billboard-changes-streaming-weighting-hot-100-billboard-200/))"
   ]
  },
  {
   "cell_type": "markdown",
   "id": "eeda1067",
   "metadata": {},
   "source": [
    "Check the same unique-songs-by-year chart as earlier, except now every year after the first year (1991) has fewer unique songs, since we've only kept the highest-charting week for each song in _the first year it appears_."
   ]
  },
  {
   "cell_type": "code",
   "execution_count": null,
   "id": "c3f928a4",
   "metadata": {},
   "outputs": [],
   "source": [
    "_ = df.groupby(['year'])['artist_song'].count().plot.bar(title='Number of unique charting songs by year\\n(w/o duplicate songs across years)')"
   ]
  },
  {
   "cell_type": "markdown",
   "id": "c644a89b",
   "metadata": {},
   "source": [
    "For our final list of songs for which we'll scrape chords, take the top 100 songs from each year."
   ]
  },
  {
   "cell_type": "code",
   "execution_count": null,
   "id": "883942d8",
   "metadata": {},
   "outputs": [],
   "source": [
    "df = df.groupby(['year']).head(100)"
   ]
  },
  {
   "cell_type": "code",
   "execution_count": null,
   "id": "5b408090",
   "metadata": {},
   "outputs": [],
   "source": [
    "_ = df.groupby(['year'])['artist_song'].count().plot.bar(title='Final song counts\\n100 per year from 1991 to 2021')"
   ]
  },
  {
   "cell_type": "code",
   "execution_count": null,
   "id": "86d93a0a",
   "metadata": {},
   "outputs": [],
   "source": [
    "df"
   ]
  },
  {
   "cell_type": "markdown",
   "id": "fe22707f",
   "metadata": {},
   "source": [
    "The dataframe `df` now holds all 3100 songs (the 100 highest-charting songs for the 31 years in 1991-2021) that we'll scrape chords for.\n",
    "\n",
    "See the `billboard_reduce.py` script for the condensed version of the processing in this notebook."
   ]
  },
  {
   "cell_type": "code",
   "execution_count": null,
   "id": "5760dd85",
   "metadata": {},
   "outputs": [],
   "source": []
  }
 ],
 "metadata": {
  "kernelspec": {
   "display_name": "Python 3 (ipykernel)",
   "language": "python",
   "name": "python3"
  },
  "language_info": {
   "codemirror_mode": {
    "name": "ipython",
    "version": 3
   },
   "file_extension": ".py",
   "mimetype": "text/x-python",
   "name": "python",
   "nbconvert_exporter": "python",
   "pygments_lexer": "ipython3",
   "version": "3.10.1"
  }
 },
 "nbformat": 4,
 "nbformat_minor": 5
}
