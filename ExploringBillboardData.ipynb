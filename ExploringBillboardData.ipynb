{
 "cells": [
  {
   "cell_type": "code",
   "execution_count": null,
   "id": "d5dacf52",
   "metadata": {},
   "outputs": [],
   "source": [
    "import pandas as pd\n",
    "import matplotlib.pyplot as plt\n",
    "%matplotlib inline\n",
    "plt.rcParams[\"figure.figsize\"] = [10, 5]"
   ]
  },
  {
   "cell_type": "code",
   "execution_count": null,
   "id": "fc99b9e4",
   "metadata": {},
   "outputs": [],
   "source": [
    "billboard_csv = 'billboard_hot_100_1991-01-05_to_2022-10-01.csv'\n",
    "df = pd.read_csv(billboard_csv, parse_dates=['date'])"
   ]
  },
  {
   "cell_type": "markdown",
   "id": "72f874cb",
   "metadata": {},
   "source": [
    "View data before any processing:"
   ]
  },
  {
   "cell_type": "code",
   "execution_count": null,
   "id": "b22583e8",
   "metadata": {},
   "outputs": [],
   "source": [
    "df"
   ]
  },
  {
   "cell_type": "markdown",
   "id": "93e88268",
   "metadata": {},
   "source": [
    "Reorder columns:"
   ]
  },
  {
   "cell_type": "code",
   "execution_count": null,
   "id": "68e61511",
   "metadata": {},
   "outputs": [],
   "source": [
    "df = df.filter(['date', 'pos', 'pos_prev', 'pos_peak', 'weeks', 'artist', 'song'])"
   ]
  },
  {
   "cell_type": "code",
   "execution_count": null,
   "id": "f8c5763e",
   "metadata": {},
   "outputs": [],
   "source": [
    "df.head()"
   ]
  },
  {
   "cell_type": "markdown",
   "id": "da4a46bc",
   "metadata": {},
   "source": [
    "Add some columns for convenience:\n",
    "* Add a \"year\", derived from the \"date\" column, and use it as the index.\n",
    "* Add an \"artist_song\" column, derived from the \"artist\" and \"song\" columns. (We'll use this to determine unique songs in each year.)"
   ]
  },
  {
   "cell_type": "code",
   "execution_count": null,
   "id": "99db91c9",
   "metadata": {},
   "outputs": [],
   "source": [
    "df['year'] = df['date'].dt.year\n",
    "df.set_index('year', inplace=True)\n",
    "df['artist_song'] = df['artist'] + ': ' + df['song']\n",
    "df[['artist', 'song', 'artist_song']].head()"
   ]
  },
  {
   "cell_type": "markdown",
   "id": "bafb16ed",
   "metadata": {},
   "source": [
    "Remove the original 'artist' and 'song' columns, since we now have the combined 'artist_song':"
   ]
  },
  {
   "cell_type": "code",
   "execution_count": null,
   "id": "87d95b77",
   "metadata": {},
   "outputs": [],
   "source": [
    "df.drop(columns=['artist', 'song'], inplace=True)"
   ]
  },
  {
   "cell_type": "code",
   "execution_count": null,
   "id": "0ffeca13",
   "metadata": {},
   "outputs": [],
   "source": [
    "_ = df.groupby(['year'])['artist_song'].count().plot.bar(title='Number of unique charting songs by year')"
   ]
  },
  {
   "cell_type": "markdown",
   "id": "ffc4be9a",
   "metadata": {},
   "source": [
    "Sort all chart weeks by year (earliest first), then by peak chart position (lowest first), then by the number of consecutive weeks in the charts (most weeks first).\n",
    "\n",
    "Finally, drop all rows (chart weeks) with duplicate year/artist_song, keeping only the first (highest & longest-charting week) of each duplicate."
   ]
  },
  {
   "cell_type": "code",
   "execution_count": null,
   "id": "e11de349",
   "metadata": {},
   "outputs": [],
   "source": [
    "num_rows_raw = len(df)\n",
    "# `drop_duplicates` will error if we have an index column in the list, so we remove it before and add it back after.\n",
    "df = df.sort_values(['year', 'pos_peak', 'weeks'], ascending=[True, True, False])\\\n",
    "    .reset_index().drop_duplicates(['year', 'artist_song']).set_index('year')\n",
    "num_rows_unique_by_year = len(df)\n",
    "df"
   ]
  },
  {
   "cell_type": "code",
   "execution_count": null,
   "id": "c64a7dea",
   "metadata": {},
   "outputs": [],
   "source": [
    "print('Num rows (raw):', num_rows_raw)\n",
    "print('Num rows (with unique songs per-year):', num_rows_unique_by_year)"
   ]
  },
  {
   "cell_type": "markdown",
   "id": "af75768a",
   "metadata": {},
   "source": [
    "Find the number of unique charting songs (by 'artist'/'song') for each year:"
   ]
  },
  {
   "cell_type": "code",
   "execution_count": null,
   "id": "aefab07f",
   "metadata": {},
   "outputs": [],
   "source": [
    "# Could also use `count()` instead of `nunique()` here, since we've already dropped duplicate songe by year,\n",
    "# but this way works correctly on the dataframe even before droping duplicates.\n",
    "_ = df.groupby(['year'])['artist_song'].nunique().plot.bar(title='Number of unique charting songs by year')"
   ]
  },
  {
   "cell_type": "markdown",
   "id": "47ee0045",
   "metadata": {},
   "source": [
    "One thing that sticks out to me here is that more recent years have more unique charting songs, by a substantial margin.\n",
    "\n",
    "My naive interpretation is that our tastes are becoming more eclectic, but maybe it has more to do with the music industry/distribution/etc. than our collective listening patterns/tastes? Independent artists getting more exposure through Soundcloud/Bandcamp? ([Chart rankings are based on sales (physical and digital), radio play, and online streaming in the United States.](https://www.billboard.com/pro/billboard-changes-streaming-weighting-hot-100-billboard-200/))"
   ]
  },
  {
   "cell_type": "code",
   "execution_count": null,
   "id": "f1d99862",
   "metadata": {},
   "outputs": [],
   "source": []
  }
 ],
 "metadata": {
  "kernelspec": {
   "display_name": "Python 3 (ipykernel)",
   "language": "python",
   "name": "python3"
  },
  "language_info": {
   "codemirror_mode": {
    "name": "ipython",
    "version": 3
   },
   "file_extension": ".py",
   "mimetype": "text/x-python",
   "name": "python",
   "nbconvert_exporter": "python",
   "pygments_lexer": "ipython3",
   "version": "3.10.1"
  }
 },
 "nbformat": 4,
 "nbformat_minor": 5
}
